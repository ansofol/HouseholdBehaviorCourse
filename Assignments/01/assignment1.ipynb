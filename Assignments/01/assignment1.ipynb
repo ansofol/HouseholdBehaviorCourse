{
 "cells": [
  {
   "attachments": {},
   "cell_type": "markdown",
   "metadata": {},
   "source": [
    "# Assignment 1: Labor Supply and Children"
   ]
  },
  {
   "cell_type": "markdown",
   "metadata": {},
   "source": [
    "## 0: Setup and solve model"
   ]
  },
  {
   "cell_type": "code",
   "execution_count": 15,
   "metadata": {},
   "outputs": [
    {
     "name": "stdout",
     "output_type": "stream",
     "text": [
      "The autoreload extension is already loaded. To reload it, use:\n",
      "  %reload_ext autoreload\n"
     ]
    }
   ],
   "source": [
    "%load_ext autoreload\n",
    "%autoreload 2\n",
    "\n",
    "import numpy as np\n",
    "import matplotlib.pyplot as plt\n",
    "import seaborn as sns\n",
    "\n",
    "from DynLaborFertModel import DynLaborFertModelClass\n",
    "\n",
    "# save and load models\n",
    "save = False\n",
    "load = True"
   ]
  },
  {
   "cell_type": "code",
   "execution_count": 16,
   "metadata": {},
   "outputs": [
    {
     "name": "stdout",
     "output_type": "stream",
     "text": [
      "Modelclass: DynLaborFertModelClass\n",
      "Name: baseline\n",
      "\n",
      "namespaces: ['par', 'sim', 'sol']\n",
      "other_attrs: []\n",
      "savefolder: saved\n",
      "cpp_filename: None\n",
      "\n",
      "par:\n",
      " T = 10 [int]\n",
      " rho = 0.9803921568627451 [float]\n",
      " beta_0 = 0.1 [float]\n",
      " beta_1 = 0.05 [float]\n",
      " eta = -2.0 [float]\n",
      " gamma = 2.5 [float]\n",
      " alpha = 0.3 [float]\n",
      " w = 1.0 [float]\n",
      " tau = 0.1 [float]\n",
      " p_birth = 0.1 [float]\n",
      " c_cost = 0 [int]\n",
      " y0 = 0.0 [float]\n",
      " y1 = 0.0 [float]\n",
      " spousegrid = ndarray with shape = (2,) [dtype: int32]\n",
      " p_spouse = 1 [int]\n",
      " r = 0.02 [float]\n",
      " a_max = 5.0 [float]\n",
      " a_min = -10.0 [float]\n",
      " Na = 50 [int]\n",
      " k_max = 20.0 [float]\n",
      " Nk = 20 [int]\n",
      " Nn = 2 [int]\n",
      " simT = 10 [int]\n",
      " simN = 1000 [int]\n",
      " target_drop_y0 = -0.1 [float]\n",
      " a_grid = ndarray with shape = (50,) [dtype: float64]\n",
      " k_grid = ndarray with shape = (20,) [dtype: float64]\n",
      " n_grid = ndarray with shape = (2,) [dtype: int32]\n",
      " w_vec = ndarray with shape = (10,) [dtype: float64]\n",
      " memory, gb: 0.0\n",
      "\n",
      "sim:\n",
      " c = ndarray with shape = (1000, 10) [dtype: float64]\n",
      " h = ndarray with shape = (1000, 10) [dtype: float64]\n",
      " a = ndarray with shape = (1000, 10) [dtype: float64]\n",
      " k = ndarray with shape = (1000, 10) [dtype: float64]\n",
      " n = ndarray with shape = (1000, 10) [dtype: int32]\n",
      " draws_uniform = ndarray with shape = (1000, 10) [dtype: float64]\n",
      " spouse = ndarray with shape = (1000, 10) [dtype: int32]\n",
      " a_init = ndarray with shape = (1000,) [dtype: float64]\n",
      " k_init = ndarray with shape = (1000,) [dtype: float64]\n",
      " n_init = ndarray with shape = (1000,) [dtype: int32]\n",
      " spouse_init = ndarray with shape = (1000,) [dtype: int32]\n",
      " memory, gb: 0.0\n",
      "\n",
      "sol:\n",
      " c = ndarray with shape = (10, 2, 2, 50, 20) [dtype: float64]\n",
      " h = ndarray with shape = (10, 2, 2, 50, 20) [dtype: float64]\n",
      " V = ndarray with shape = (10, 2, 2, 50, 20) [dtype: float64]\n",
      " solved = True\n",
      " memory, gb: 0.0\n",
      "\n"
     ]
    }
   ],
   "source": [
    "model = DynLaborFertModelClass(name='baseline', load=load)\n",
    "\n",
    "if model.sol.solved == False:\n",
    "    model.solve(do_print=True)\n",
    "\n",
    "model.simulate()\n",
    "print(model)\n",
    "\n",
    "if save:\n",
    "    model.save()"
   ]
  },
  {
   "attachments": {},
   "cell_type": "markdown",
   "metadata": {},
   "source": [
    "## 1. Estimate $\\beta_1$"
   ]
  },
  {
   "cell_type": "code",
   "execution_count": 17,
   "metadata": {},
   "outputs": [],
   "source": [
    "model_est = DynLaborFertModelClass(name='estimation', load=load, par={'Nk':20, 'Na':50})\n",
    "kwargs = {'method':'brentq', 'bracket':(0.04, 0.06), 'maxiter': 10, 'xtol':0.001}\n",
    "\n",
    "if model_est.sol.solved == False:\n",
    "    model_est.estimate(**kwargs)\n",
    "\n",
    "if save:\n",
    "    model_est.save()"
   ]
  },
  {
   "attachments": {},
   "cell_type": "markdown",
   "metadata": {},
   "source": [
    "## 2. Marshall elasticity"
   ]
  },
  {
   "cell_type": "code",
   "execution_count": 18,
   "metadata": {},
   "outputs": [],
   "source": [
    "model_tax = DynLaborFertModelClass(name='tax', load=load)\n",
    "model_tax.par.tau = model.par.tau*1.01\n",
    "\n",
    "if model_tax.sol.solved == False:\n",
    "    model_tax.solve()\n",
    "\n",
    "model_tax.simulate()\n",
    "\n",
    "if save:\n",
    "    model_tax.save()"
   ]
  },
  {
   "cell_type": "code",
   "execution_count": 19,
   "metadata": {},
   "outputs": [],
   "source": [
    "marshall_vec = np.empty(model.par.simT)\n",
    "model_sim = model.copy() #extra model for performing simulations\n",
    "\n",
    "for t in range(model.par.simT):\n",
    "    model_sim.simulate() \n",
    "    model_sim.simulate_tau(tau=t, shock_model=model_tax)\n",
    "    marshall = ((model_sim.sim.h[:,t]/model.sim.h[:,t]-1)*100).mean() # response in shock period\n",
    "    marshall_vec[t]=marshall"
   ]
  },
  {
   "attachments": {},
   "cell_type": "markdown",
   "metadata": {},
   "source": [
    "## 3.  Introduce spouse"
   ]
  },
  {
   "cell_type": "code",
   "execution_count": 20,
   "metadata": {},
   "outputs": [],
   "source": [
    "model_spouse = DynLaborFertModelClass(name='spouse', load=load)\n",
    "model_spouse.par.y0 = 0.1\n",
    "model_spouse.par.y1 = 0.01\n",
    "\n",
    "if model_spouse.sol.solved == False:\n",
    "    model_spouse.solve()\n",
    "\n",
    "if save:\n",
    "    model_spouse.save()"
   ]
  },
  {
   "attachments": {},
   "cell_type": "markdown",
   "metadata": {},
   "source": [
    "## 4. Childcare cost"
   ]
  },
  {
   "cell_type": "code",
   "execution_count": 21,
   "metadata": {},
   "outputs": [],
   "source": [
    "model_childcare = DynLaborFertModelClass(name='childcare_cost', load=load)\n",
    "model_childcare.par.c_cost = 0.05\n",
    "\n",
    "if model_childcare.sol.solved == False:\n",
    "    model_childcare.solve()\n",
    "    \n",
    "model_childcare.simulate()\n",
    "\n",
    "if save:\n",
    "    model_childcare.save()"
   ]
  },
  {
   "attachments": {},
   "cell_type": "markdown",
   "metadata": {},
   "source": [
    "## 6. Stochastic spouse"
   ]
  },
  {
   "cell_type": "code",
   "execution_count": 22,
   "metadata": {},
   "outputs": [],
   "source": [
    "model_stspouse = DynLaborFertModelClass(name='st_spouse', load=load)\n",
    "model_stspouse.par.p_spouse = 0.8\n",
    "\n",
    "if model_stspouse.sol.solved == False:\n",
    "    model_stspouse.solve()\n",
    "\n",
    "model_stspouse.simulate()\n",
    "\n",
    "if save:\n",
    "    model_stspouse.save()"
   ]
  }
 ],
 "metadata": {
  "kernelspec": {
   "display_name": "base",
   "language": "python",
   "name": "python3"
  },
  "language_info": {
   "codemirror_mode": {
    "name": "ipython",
    "version": 3
   },
   "file_extension": ".py",
   "mimetype": "text/x-python",
   "name": "python",
   "nbconvert_exporter": "python",
   "pygments_lexer": "ipython3",
   "version": "3.9.16"
  },
  "orig_nbformat": 4
 },
 "nbformat": 4,
 "nbformat_minor": 2
}
