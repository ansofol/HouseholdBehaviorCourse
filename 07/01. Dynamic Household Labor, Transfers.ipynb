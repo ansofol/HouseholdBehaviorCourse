{
 "cells": [
  {
   "attachments": {},
   "cell_type": "markdown",
   "metadata": {},
   "source": [
    "# Life-Cycle Labor Supply of Couples with Children"
   ]
  },
  {
   "attachments": {},
   "cell_type": "markdown",
   "metadata": {},
   "source": [
    "Solves and simulates a $T$-period labor supply model with two-earner couples. <br>\n",
    "**Motivated** by the study “Child-Related Transfers, Household Labor Supply and Welfare” by [Guner et al. (2020)](https://academic.oup.com/restud/article/87/5/2290/5809564). <br>\n",
    "**Goal** is to replicate effects of child-related transfers.\n",
    "\n",
    "For simplicity, couples cannot divorce nor save.\n",
    "\n",
    "The **Bellman equation** and the recursive formulation of our simple model is \n",
    "$$\n",
    "\\begin{align*}\n",
    "V_{t}(n_{t},K_{1,t},K_{2,t}) & =\\max_{h_{1,t},h_{2,t}}U(c_{t},h_{1,t},h_{2,t},n_{t})\\\\\n",
    " & \\qquad\\qquad+\\beta\\mathbb{E}_{t}[V_{t+1}(n_{t+1},K_{1,t+1},K_{2,t+1})]\\\\\n",
    "c_{t} & =\\sum_{j=1}^{2}w_{j,t}h_{j,t}-T(w_{1,t}h_{1,t},w_{2,t}h_{2,t})\\\\\n",
    " & \\qquad+\\mathcal{C}(n_{t},h_{1,t},h_{2,t},w_{1,t},w_{2,t})\\\\\n",
    "n_{t+1} & =\\begin{cases}\n",
    "\\begin{array}{ll}\n",
    "1 & \\text{with prob. } p(n_{t})\\\\\n",
    "0 & \\text{with prob. } 1-p(n_{t})\n",
    "\\end{array}\\end{cases}\\\\\n",
    "\\log w_{j,t} & =\\alpha_{j,0}+\\alpha_{j,1}K_{j,t},\\;j\\in\\{1,2\\}\\\\\n",
    "K_{j,t+1} & =(1-\\delta)K_{j,t}+h_{j,t},\\;j\\in\\{1,2\\}\n",
    "\\end{align*}\n",
    "$$\n",
    "\n",
    "**Child-related transfers:** We assume that if both work, they have to buy childcare. <br>\n",
    "This means that conditional transfers are always a subsidy (cannot do 5 or 6 in taxonomy of Guner et al. (2020)). <br>\n",
    "Child-related transfers are\n",
    "$$\n",
    "\\begin{align*}\n",
    "\\mathcal{C}(n_{t},h_{1,t},h_{2,t},w_{1,t},w_{2,t}) & =\\mathcal{C}_{1}(n_{t})+\\mathcal{C}_{2}(n_{t},Y_{t})\\\\\n",
    " & +[\\mathcal{C}_{3}(n_{t})+\\mathcal{C}_{4}(n_{t},Y_{t})]\\cdot\\mathbf{1}(h_{1,t}\\cdot h_{2,t}>0)\n",
    "\\end{align*}\n",
    "$$\n",
    "where household income is\n",
    "$$\n",
    "Y_{t}=\\sum_{j=1}^{2}w_{j,t}h_{j,t}.\n",
    "$$\n",
    "\n",
    "**Preferences** are sum of individuals\n",
    "$$\n",
    "U(c_{t},h_{1,t},h_{2,t})=2\\frac{(c_{t}/2)^{1+\\eta}}{1+\\eta}-\\rho_{1}(n_{t})\\frac{h_{1,t}^{1+\\gamma}}{1+\\gamma}-\\rho_{2}(n_{t})\\frac{h_{2,t}^{1+\\gamma}}{1+\\gamma}\n",
    "$$\n",
    "with \n",
    "$$\n",
    "\\rho_{j}(n_{t})=\\rho_{0,j}+\\rho_{1,j}n_{t}\n",
    "$$\n",
    "\n",
    "**Taxes** are on the household level\n",
    "$$\n",
    "T(Y_{1},Y_{2})=(1-\\lambda(Y_{1}+Y_{2})^{-\\tau})\\cdot(Y_{1}+Y_{2})\n",
    "$$\n",
    "\n",
    "**Expected value** is\n",
    "$$\n",
    "\\begin{align*}\n",
    "\\mathbb{E}_{t}[V_{t+1}(n_{t+1},a_{t+1},k_{t+1})] & =p(n_{t})V_{t+1}(n_{t}+1,a_{t+1},k_{t+1})\\\\\n",
    " & +(1-p(n_{t}))V_{t+1}(n_{t},a_{t+1},k_{t+1})\n",
    "\\end{align*}\n",
    "$$\n",
    "\n",
    "**Terminal period:** There are no bequests such that\n",
    "$$\n",
    "V_{T}(n_T,K_{1,T},K_{2,T})  =\\max_{h_{1,T},h_{2,T}}U(c_{T},h_{1,T},h_{2,T})\n",
    "$$"
   ]
  },
  {
   "cell_type": "markdown",
   "metadata": {},
   "source": [
    "## Setup"
   ]
  },
  {
   "cell_type": "code",
   "execution_count": 1,
   "metadata": {},
   "outputs": [],
   "source": [
    "%load_ext autoreload\n",
    "%autoreload 2\n",
    "\n",
    "import numpy as np\n",
    "import numba as nb\n",
    "\n",
    "import matplotlib.pyplot as plt\n",
    "from mpl_toolkits import mplot3d"
   ]
  },
  {
   "cell_type": "markdown",
   "metadata": {},
   "source": [
    "# Consumption-Saving Model"
   ]
  },
  {
   "cell_type": "code",
   "execution_count": 2,
   "metadata": {},
   "outputs": [],
   "source": [
    "# load local model file and initialize model class\n",
    "# -> copy .py-module from last time and modify it!\n",
    "from DynHouseholdLaborModel import DynHouseholdLaborModelClass"
   ]
  },
  {
   "attachments": {},
   "cell_type": "markdown",
   "metadata": {},
   "source": [
    "# Simulate child-related transfers reforms"
   ]
  },
  {
   "cell_type": "code",
   "execution_count": 3,
   "metadata": {},
   "outputs": [],
   "source": [
    "# modify code and run it...\n",
    "model = DynHouseholdLaborModelClass()\n",
    "par = model.par\n",
    "sol = model.sol"
   ]
  },
  {
   "cell_type": "code",
   "execution_count": 4,
   "metadata": {},
   "outputs": [
    {
     "data": {
      "text/plain": [
       "array([0])"
      ]
     },
     "execution_count": 4,
     "metadata": {},
     "output_type": "execute_result"
    }
   ],
   "source": [
    "par.child_grid"
   ]
  },
  {
   "cell_type": "code",
   "execution_count": 6,
   "metadata": {},
   "outputs": [
    {
     "name": "stderr",
     "output_type": "stream",
     "text": [
      "c:\\Users\\sofie\\OneDrive\\Dokumenter\\Skole\\HouseholdBehavior\\HouseholdBehaviorCourse\\07\\DynHouseholdLaborModel.py:196: RuntimeWarning: divide by zero encountered in double_scalars\n",
      "  rate = 1.0 - par.tax_scale*(income**(-par.tax_pow))\n",
      "c:\\Users\\sofie\\OneDrive\\Dokumenter\\Skole\\HouseholdBehavior\\HouseholdBehaviorCourse\\07\\DynHouseholdLaborModel.py:197: RuntimeWarning: invalid value encountered in double_scalars\n",
      "  return rate*income\n"
     ]
    },
    {
     "ename": "AssertionError",
     "evalue": "",
     "output_type": "error",
     "traceback": [
      "\u001b[1;31m---------------------------------------------------------------------------\u001b[0m",
      "\u001b[1;31mAssertionError\u001b[0m                            Traceback (most recent call last)",
      "\u001b[1;32m~\\AppData\\Local\\Temp\\ipykernel_10768\\2771836399.py\u001b[0m in \u001b[0;36m<module>\u001b[1;34m\u001b[0m\n\u001b[1;32m----> 1\u001b[1;33m \u001b[0mmodel\u001b[0m\u001b[1;33m.\u001b[0m\u001b[0msolve\u001b[0m\u001b[1;33m(\u001b[0m\u001b[1;33m)\u001b[0m\u001b[1;33m\u001b[0m\u001b[1;33m\u001b[0m\u001b[0m\n\u001b[0m",
      "\u001b[1;32mc:\\Users\\sofie\\OneDrive\\Dokumenter\\Skole\\HouseholdBehavior\\HouseholdBehaviorCourse\\07\\DynHouseholdLaborModel.py\u001b[0m in \u001b[0;36msolve\u001b[1;34m(self)\u001b[0m\n\u001b[0;32m    130\u001b[0m \u001b[1;33m\u001b[0m\u001b[0m\n\u001b[0;32m    131\u001b[0m                         \u001b[0mres\u001b[0m \u001b[1;33m=\u001b[0m \u001b[0mminimize\u001b[0m\u001b[1;33m(\u001b[0m\u001b[0mobj\u001b[0m\u001b[1;33m,\u001b[0m\u001b[0minit_h\u001b[0m\u001b[1;33m,\u001b[0m\u001b[0mbounds\u001b[0m\u001b[1;33m=\u001b[0m\u001b[0mbounds\u001b[0m\u001b[1;33m)\u001b[0m\u001b[1;33m\u001b[0m\u001b[1;33m\u001b[0m\u001b[0m\n\u001b[1;32m--> 132\u001b[1;33m                         \u001b[1;32massert\u001b[0m \u001b[0mres\u001b[0m\u001b[1;33m.\u001b[0m\u001b[0msuccess\u001b[0m\u001b[1;33m\u001b[0m\u001b[1;33m\u001b[0m\u001b[0m\n\u001b[0m\u001b[0;32m    133\u001b[0m                         \u001b[1;31m# store results\u001b[0m\u001b[1;33m\u001b[0m\u001b[1;33m\u001b[0m\u001b[0m\n\u001b[0;32m    134\u001b[0m                         \u001b[0msol\u001b[0m\u001b[1;33m.\u001b[0m\u001b[0mh1\u001b[0m\u001b[1;33m[\u001b[0m\u001b[0midx\u001b[0m\u001b[1;33m]\u001b[0m \u001b[1;33m=\u001b[0m \u001b[0mres\u001b[0m\u001b[1;33m.\u001b[0m\u001b[0mx\u001b[0m\u001b[1;33m[\u001b[0m\u001b[1;36m0\u001b[0m\u001b[1;33m]\u001b[0m\u001b[1;33m\u001b[0m\u001b[1;33m\u001b[0m\u001b[0m\n",
      "\u001b[1;31mAssertionError\u001b[0m: "
     ]
    }
   ],
   "source": [
    "model.solve()"
   ]
  },
  {
   "cell_type": "code",
   "execution_count": 19,
   "metadata": {},
   "outputs": [],
   "source": [
    "obj = lambda x: model.value_of_choice(0, x[0], x[1], 1, 1, sol.V[-1])"
   ]
  },
  {
   "cell_type": "code",
   "execution_count": 21,
   "metadata": {},
   "outputs": [],
   "source": [
    "from scipy import optimize"
   ]
  },
  {
   "cell_type": "code",
   "execution_count": 28,
   "metadata": {},
   "outputs": [
    {
     "data": {
      "text/plain": [
       "      fun: nan\n",
       " hess_inv: <2x2 LbfgsInvHessProduct with dtype=float64>\n",
       "      jac: array([-9.91930928e+209, -9.91930928e+209])\n",
       "  message: 'ABNORMAL_TERMINATION_IN_LNSRCH'\n",
       "     nfev: 174\n",
       "      nit: 4\n",
       "     njev: 58\n",
       "   status: 2\n",
       "  success: False\n",
       "        x: array([3.30373015e+84, 3.30373015e+84])"
      ]
     },
     "execution_count": 28,
     "metadata": {},
     "output_type": "execute_result"
    }
   ],
   "source": [
    "optimize.minimize(obj, x0 = [1,1], bounds=[(0,np.inf), (0,np.inf)])"
   ]
  }
 ],
 "metadata": {
  "kernelspec": {
   "display_name": "Python 3",
   "language": "python",
   "name": "python3"
  },
  "language_info": {
   "codemirror_mode": {
    "name": "ipython",
    "version": 3
   },
   "file_extension": ".py",
   "mimetype": "text/x-python",
   "name": "python",
   "nbconvert_exporter": "python",
   "pygments_lexer": "ipython3",
   "version": "3.9.16"
  },
  "toc-autonumbering": true,
  "vscode": {
   "interpreter": {
    "hash": "2a1ca330d9582a7d9f549c991d1ebe88efa30325a2a9c927421566fc2176e6bd"
   }
  }
 },
 "nbformat": 4,
 "nbformat_minor": 4
}
